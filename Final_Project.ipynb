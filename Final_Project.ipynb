{
 "cells": [
  {
   "cell_type": "code",
   "execution_count": 2,
   "metadata": {
    "id": "9eyP91-Dwqcr"
   },
   "outputs": [],
   "source": [
    "# Importing packages\n",
    "import pandas as pd\n",
    "import warnings\n",
    "warnings.filterwarnings('ignore')\n",
    "import matplotlib.pyplot as plt\n",
    "import seaborn as sns"
   ]
  },
  {
   "cell_type": "code",
   "execution_count": null,
   "metadata": {
    "id": "w_uPrfuawu5s"
   },
   "outputs": [],
   "source": [
    "#Data Source\n",
    "df1 = pd.read_csv('https://umbc.box.com/shared/static/au8h309qptksq5wlem6g5onn5v13fsrc.csv', encoding='ISO-8859-1')\n",
    "df2=pd.read_csv('https://umbc.box.com/shared/static/tdkmuj86qm2uxhvjlfkav2i3pnx9fkoa.csv',encoding='ISO-8859-1')\n",
    "df3=pd.read_csv('https://umbc.box.com/shared/static/7emabgf9ck2afprmrl459jnk30ewmabj.csv',encoding='ISO-8859-1')\n",
    "df4=pd.read_csv('https://umbc.box.com/shared/static/91lmieun5u1e8p87wmlnuglyzl3xm91h.csv',encoding='ISO-8859-1')\n",
    "\n",
    "# merged all the four data frames\n",
    "combined_df = pd.concat([df1, df2, df3, df4], ignore_index=True)"
   ]
  },
  {
   "cell_type": "code",
   "execution_count": null,
   "metadata": {
    "id": "adRRRvz1wwrr"
   },
   "outputs": [],
   "source": [
    "#Cleaning the data\n",
    "\n",
    "def clean_contract_data(df):\n",
    "    # Clean 'Award$' column to extract numeric values\n",
    "    df['Award$'] = pd.to_numeric(df['Award$'].str.replace('[^\\d.]', ''), errors='coerce')\n",
    "\n",
    "    # Convert the 'PostedDate' column into UTC format\n",
    "    df['PostedDate'] = pd.to_datetime(df['PostedDate'], errors='coerce', utc=True)\n",
    "\n",
    "    # Convert the 'Awardee' column to string type\n",
    "    df['Awardee'] = df['Awardee'].astype(str)\n",
    "\n",
    "    return df\n",
    "\n",
    "# function with the contract data\n",
    "combined_df = clean_contract_data(combined_df)"
   ]
  },
  {
   "cell_type": "code",
   "execution_count": null,
   "metadata": {
    "colab": {
     "base_uri": "https://localhost:8080/"
    },
    "id": "49fUIb5fwyXB",
    "outputId": "9c2ddcb2-ba0b-4e80-a328-9da6db6145c3"
   },
   "outputs": [],
   "source": [
    "combined_df.columns"
   ]
  },
  {
   "cell_type": "markdown",
   "metadata": {
    "id": "BF1lOGOnxAFP"
   },
   "source": [
    "# **1.Census Bureau has the largest number of contracts in Department of Commerce**"
   ]
  },
  {
   "cell_type": "code",
   "execution_count": null,
   "metadata": {
    "colab": {
     "base_uri": "https://localhost:8080/",
     "height": 1000
    },
    "id": "PrGMoHRdxHvu",
    "outputId": "b4a417f4-07f1-42dc-a566-a292185b5ce9"
   },
   "outputs": [],
   "source": [
    "#Filtering the combined_df on basis of Department/Ind.Agency as \"Commerce\"\n",
    "com_df = combined_df[combined_df['Department/Ind.Agency'].str.contains('COMMERCE',na=False)]\n",
    "com_df"
   ]
  },
  {
   "cell_type": "code",
   "execution_count": null,
   "metadata": {
    "colab": {
     "base_uri": "https://localhost:8080/",
     "height": 1000
    },
    "id": "InJyFzuCxWhO",
    "outputId": "0a24e271-9208-47b2-d252-fdd3dda01ddf"
   },
   "outputs": [],
   "source": [
    "#Fetching the Census Bureau subtier data from Department/Ind.Agency as \"Commerce\"\n",
    "census = com_df[com_df['Sub-Tier'].str.contains('US CENSUS BUREAU',na=False)]\n",
    "census"
   ]
  },
  {
   "cell_type": "code",
   "execution_count": null,
   "metadata": {
    "colab": {
     "base_uri": "https://localhost:8080/",
     "height": 300
    },
    "id": "p9Kik25Rxqwp",
    "outputId": "f9c3ae68-3cdd-41cd-a122-ca5767675f63"
   },
   "outputs": [],
   "source": [
    "#Fectching the value count and resetting the index\n",
    "compare = com_df['Sub-Tier'].value_counts().reset_index()\n",
    "compare.rename(columns={'index':'Sub-Tier','Sub-Tier':'count'},inplace=True)\n",
    "compare"
   ]
  },
  {
   "cell_type": "code",
   "execution_count": null,
   "metadata": {
    "colab": {
     "base_uri": "https://localhost:8080/",
     "height": 657
    },
    "id": "W-47CNdTx7MH",
    "outputId": "4fd95c3b-7361-45cf-a088-f6ce2d41859d"
   },
   "outputs": [],
   "source": [
    "import plotly.express as px\n",
    "\n",
    "# Creating bar graph\n",
    "fig = px.bar(compare, y='Sub-Tier', x='count', orientation='h', color='Sub-Tier', text='count',\n",
    "             title='Counts of Sub-Tier Entities',\n",
    "             category_orders={\"Sub-Tier\": compare.sort_values(\"count\", ascending=True)['Sub-Tier']})\n",
    "fig.update_layout(width=960, height=640, showlegend=False, title_x=0.5, title_font_color='darkblue',\n",
    "                  xaxis_tickfont_size=12, yaxis_tickfont_size=10,\n",
    "                  margin=dict(l=40, r=40, t=60, b=40),  # Adjusted margins\n",
    "                  plot_bgcolor='white', paper_bgcolor='white',\n",
    "                  shapes=[\n",
    "                      dict(type=\"line\", x0=0, y0=-0.5, x1=0, y1=len(compare['Sub-Tier'])-0.5, line=dict(color=\"Black\", width=2)),\n",
    "                      dict(type=\"line\", x0=min(compare['count']), y0=-0.5, x1=max(compare['count']), y1=-0.5, line=dict(color=\"Black\", width=2))\n",
    "                  ])\n",
    "\n",
    "# Adjusting bar text\n",
    "fig.update_traces(texttemplate='%{text}', textposition='outside').show()"
   ]
  },
  {
   "cell_type": "markdown",
   "metadata": {
    "id": "wRFjVC5NNj5L"
   },
   "source": [
    "Since 'NATIONAL OCEANIC AND ATMOSPHERIC ADMINISTRATION' has the highest number of contracts our hypothesis is wrong."
   ]
  },
  {
   "cell_type": "markdown",
   "metadata": {
    "id": "KwWf5uqo4b69"
   },
   "source": [
    "# **2. Department of Defense posted the highest number of contracts over the last several years comparing with other departments.**"
   ]
  },
  {
   "cell_type": "code",
   "execution_count": null,
   "metadata": {
    "colab": {
     "base_uri": "https://localhost:8080/",
     "height": 363
    },
    "id": "I0H8fX2r41-D",
    "outputId": "05a363dc-c276-441d-fdba-75db92e3269c"
   },
   "outputs": [],
   "source": [
    "#Fectching the value count of Department/Ind.Agency\n",
    "display = combined_df['Department/Ind.Agency'].value_counts()\n",
    "\n",
    "#Restting the index and fecthing top 10\n",
    "xyz = display.head(10).reset_index()\n",
    "xyz.rename(columns={'index':'Department/Ind.Agency','Department/Ind.Agency':'Count'},inplace=True)\n",
    "xyz"
   ]
  },
  {
   "cell_type": "code",
   "execution_count": null,
   "metadata": {
    "colab": {
     "base_uri": "https://localhost:8080/",
     "height": 542
    },
    "id": "rRp_3brS4_8s",
    "outputId": "5fc4ca4d-bb5d-468f-badf-0eb713079791"
   },
   "outputs": [],
   "source": [
    "import plotly.graph_objects as go\n",
    "\n",
    "# Create a 3D pie chart\n",
    "fig = go.Figure(data=[go.Pie(labels=xyz['Department/Ind.Agency'], values=xyz['Count'], textinfo='percent', pull=[0.1 if agency == \"DEPT OF DEFENSE\" else 0 for agency in xyz['Department/Ind.Agency']], hole=0.3)])\n",
    "\n",
    "# Customize layout\n",
    "fig.update_layout(title='Department/Agency Counts', showlegend=True, legend_title_text='Departments/Agencies',\n",
    "                  title_font_color='darkblue', title_x=0.5,\n",
    "                  font=dict(family=\"Arial, sans-serif\", size=12, color='black'),\n",
    "                  paper_bgcolor='white')\n",
    "\n",
    "# Show the figure\n",
    "fig.show()"
   ]
  },
  {
   "cell_type": "markdown",
   "metadata": {
    "id": "NgtX7ZmcN2wX"
   },
   "source": [
    "Overall, our hypothesis that defense department has the highest number of contracts as compared to the other departments.\n"
   ]
  },
  {
   "cell_type": "markdown",
   "metadata": {
    "id": "M5p7q7WD6V4W"
   },
   "source": [
    "# **3. Over the last several years, Census Bureau posted the same number of contract over the years**"
   ]
  },
  {
   "cell_type": "code",
   "execution_count": null,
   "metadata": {
    "colab": {
     "base_uri": "https://localhost:8080/",
     "height": 542
    },
    "id": "qKs194kC5pa9",
    "outputId": "ef0b88e7-f2eb-4c87-dd1a-f1380fae4756"
   },
   "outputs": [],
   "source": [
    "import pandas as pd\n",
    "import plotly.graph_objects as go\n",
    "# Creating a Year column from the PostedDate column\n",
    "combined_df['Year'] = combined_df['PostedDate'].dt.year\n",
    "\n",
    "# Filter the Sub_tier \"US CENSUS BUREAU\" from combined_df\n",
    "census = combined_df[combined_df['Sub-Tier'].str.contains('US CENSUS BUREAU', na=False)]\n",
    "\n",
    "# Group by year and count the number of contracts\n",
    "contracts_by_year = census.groupby('Year').size()\n",
    "\n",
    "# Creating a DataFrame for Plotly\n",
    "plotly_df = pd.DataFrame({'Year': contracts_by_year.index, 'Number of Contracts': contracts_by_year.values})\n",
    "\n",
    "# Finding the year corresponding to the maximum value\n",
    "max_value_year = plotly_df.loc[plotly_df['Number of Contracts'].idxmax(), 'Year']\n",
    "\n",
    "# Plotting the trend using Plotly Express\n",
    "fig = go.Figure()\n",
    "\n",
    "# Adding a line trace\n",
    "fig.add_trace(go.Scatter(\n",
    "    x=plotly_df['Year'], y=plotly_df['Number of Contracts'],\n",
    "    mode='lines+markers', line_shape='linear', marker=dict(symbol='circle', size=8),\n",
    "    name='Number of Contracts', line=dict(color='blue', width=2)\n",
    "))\n",
    "\n",
    "# Highlighting maximum value with a larger marker and bold label\n",
    "max_value = contracts_by_year.max()\n",
    "fig.add_trace(go.Scatter(\n",
    "    x=[max_value_year], y=[max_value], mode='markers+text',\n",
    "    marker=dict(color='red', size=12), text=[f'Max: {max_value}'],\n",
    "    textposition='bottom right', textfont=dict(color='red', size=12)\n",
    "))\n",
    "\n",
    "# Adding a background color\n",
    "fig.add_shape(\n",
    "    type='rect', x0=min(plotly_df['Year']), x1=max(plotly_df['Year']), y0=0, y1=max_value,\n",
    "    fillcolor='lightgrey', opacity=0.2, layer='below', line_width=0\n",
    ")\n",
    "\n",
    "# Adding hover text\n",
    "fig.update_traces(\n",
    "    hovertemplate='%{y} contracts<br>%{x}'\n",
    ")\n",
    "\n",
    "# Adding title and labels with grid customization\n",
    "fig.update_layout(\n",
    "    title='Number of Contracts Posted by Census Bureau Over the Years',\n",
    "    xaxis=dict(title='Year', showgrid=True, gridcolor='grey', gridwidth=2, tickmode='linear', dtick=1),\n",
    "    yaxis=dict(title='Number of Contracts', showgrid=True, gridcolor='grey', gridwidth=2),\n",
    "    legend=dict(font=dict(size=12)),\n",
    "    showlegend=True,\n",
    "    plot_bgcolor='rgba(0,0,0,0)',\n",
    "    paper_bgcolor='rgba(0,0,0,0)',\n",
    "    font=dict(color='black'),\n",
    "    hovermode='x'\n",
    ")\n",
    "\n",
    "# Highlighting titles\n",
    "fig.update_layout(\n",
    "    xaxis_title_font=dict(size=14, family='Arial', color='darkblue'),\n",
    "    yaxis_title_font=dict(size=14, family='Arial', color='darkblue')\n",
    ")\n",
    "\n",
    "# Show the plot\n",
    "fig.show()"
   ]
  },
  {
   "cell_type": "markdown",
   "metadata": {
    "id": "08vUoM8iOPCq"
   },
   "source": [
    "From above we can see an increase in number of contracts evrey year. The change is less but not negligible. Hence our hypothesis is wrong."
   ]
  },
  {
   "cell_type": "markdown",
   "metadata": {
    "id": "M9-DTYwy7XLp"
   },
   "source": [
    "# **4. There is an increase in number of contract posted for Department of Commerce over the last several years**"
   ]
  },
  {
   "cell_type": "code",
   "execution_count": null,
   "metadata": {
    "colab": {
     "base_uri": "https://localhost:8080/",
     "height": 542
    },
    "id": "PFWp--_f6eKt",
    "outputId": "8e2b0f48-620f-4ec4-a96d-4a067d48e677"
   },
   "outputs": [],
   "source": [
    "import plotly.express as px\n",
    "import plotly.graph_objects as go\n",
    "\n",
    "# Creating a Year column from the PostedDate column\n",
    "combined_df['Year'] = combined_df['PostedDate'].dt.year\n",
    "\n",
    "# Filtering contracts for the Department of Commerce\n",
    "commerce_contracts = combined_df[combined_df['Department/Ind.Agency'] == 'COMMERCE, DEPARTMENT OF']\n",
    "\n",
    "# Grouping by year and counting the number of contracts\n",
    "contracts_by_year = commerce_contracts.groupby('Year').size()\n",
    "\n",
    "# Finding the year corresponding to the maximum value\n",
    "max_value_year = contracts_by_year.idxmax()\n",
    "\n",
    "# Creating a DataFrame for Plotly\n",
    "plotly_df = pd.DataFrame({'Year': contracts_by_year.index, 'Number of Contracts': contracts_by_year.values})\n",
    "\n",
    "# Plotting the trend using Plotly\n",
    "fig = px.line(plotly_df, x='Year', y='Number of Contracts', markers=True, line_shape='linear', title='Number of Contracts Posted by Department of Commerce Over the Years',\n",
    "              labels={'Number of Contracts': 'Number of Contracts'},\n",
    "              template='plotly_dark')\n",
    "\n",
    "# Force x-axis ticks to display only integer years\n",
    "fig.update_layout(xaxis=dict(tickmode='array', tickvals=contracts_by_year.index.astype(int), ticktext=contracts_by_year.index.astype(int).astype(str)))\n",
    "\n",
    "# Adding annotations with a more visible color\n",
    "for i, value in enumerate(contracts_by_year.values):\n",
    "    fig.add_annotation(x=contracts_by_year.index[i], y=value, text=str(value), showarrow=True, arrowhead=4, ax=0, ay=-40, font=dict(color='white', size=12))\n",
    "\n",
    "# Highlighting maximum value with a larger marker and bold label\n",
    "max_value = contracts_by_year.max()\n",
    "fig.add_trace(go.Scatter(x=[max_value_year], y=[max_value], mode='markers+text', marker=dict(color='red', size=12), text=[f'Max: {max_value}'],\n",
    "                         textposition='bottom right', textfont=dict(color='red', size=12)))\n",
    "\n",
    "# Adding a background color for a more interactive feel\n",
    "fig.add_shape(type='rect', x0=min(contracts_by_year.index), x1=max(contracts_by_year.index), y0=0, y1=max_value, fillcolor='lightgrey', opacity=0.2, layer='below', line_width=0)\n",
    "\n",
    "# Customizing layout\n",
    "fig.update_layout(xaxis=dict(title='Year', showgrid=True, gridcolor='grey'),\n",
    "                  yaxis=dict(title='Number of Contracts', showgrid=True, gridcolor='grey'),\n",
    "                  legend=dict(font=dict(size=12)),\n",
    "                  showlegend=False)  # Set showlegend to True if you want to display legend\n",
    "\n",
    "fig.show()\n"
   ]
  },
  {
   "cell_type": "markdown",
   "metadata": {
    "id": "_py5b-S3Oiqe"
   },
   "source": [
    "WE can see a sharp increase after 2019 and minor growth from 2020. Indicating number of contracts increased every year. Hence, the hypotheses stands true."
   ]
  },
  {
   "cell_type": "code",
   "execution_count": null,
   "metadata": {
    "id": "uVtuBrf88DH-"
   },
   "outputs": [],
   "source": []
  }
 ],
 "metadata": {
  "colab": {
   "provenance": []
  },
  "kernelspec": {
   "display_name": "Python 3 (ipykernel)",
   "language": "python",
   "name": "python3"
  },
  "language_info": {
   "codemirror_mode": {
    "name": "ipython",
    "version": 3
   },
   "file_extension": ".py",
   "mimetype": "text/x-python",
   "name": "python",
   "nbconvert_exporter": "python",
   "pygments_lexer": "ipython3",
   "version": "3.11.4"
  }
 },
 "nbformat": 4,
 "nbformat_minor": 1
}
